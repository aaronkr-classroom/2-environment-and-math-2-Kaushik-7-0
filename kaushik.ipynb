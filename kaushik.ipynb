{
 "cells": [
  {
   "cell_type": "code",
   "execution_count": null,
   "id": "8264774b",
   "metadata": {
    "tags": [
     " pip install ipykernel jupyter notebook"
    ]
   },
   "outputs": [
    {
     "ename": "",
     "evalue": "",
     "output_type": "error",
     "traceback": [
      "\u001b[1;31mRunning cells with 'Python 3.12.11' requires the ipykernel package.\n",
      "\u001b[1;31mInstall 'ipykernel' into the Python environment. \n",
      "\u001b[1;31mCommand: '/usr/bin/python -m pip install ipykernel -U --user --force-reinstall'"
     ]
    }
   ],
   "source": [
    "# Hello Python \n",
    "name = \"Kasuhik\"\n",
    "goals =  ['learn ML', 'learn DL' , 'deeply learn DL']\n",
    "print (\"Hello\", name , \"!\")\n",
    "print (\"Hello\",name,\"!\")\n",
    "\n",
    "\n",
    "#for (1 starting point; 2 end condition; 4 next step;) {3 executing code; }\n",
    "\n",
    "for g in goals: \n",
    "  print(\"-\",  g)\n",
    "\n",
    "\n",
    "#if elif else \n",
    "if \"learn ML\" in goals :\n",
    "    print(\"Let's Learn ML\")\n"
   ]
  }
 ],
 "metadata": {
  "kernelspec": {
   "display_name": "Python 3",
   "language": "python",
   "name": "python3"
  },
  "language_info": {
   "name": "python",
   "version": "3.12.11"
  }
 },
 "nbformat": 4,
 "nbformat_minor": 5
}
